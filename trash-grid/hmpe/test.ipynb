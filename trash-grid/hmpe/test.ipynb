{
 "cells": [
  {
   "cell_type": "markdown",
   "metadata": {},
   "source": [
    "# Test"
   ]
  },
  {
   "cell_type": "code",
   "execution_count": 1,
   "metadata": {},
   "outputs": [],
   "source": [
    "FindTrash, PickUpSmall, PickUpBig, PutTrash, GetRew = list(range(5))"
   ]
  },
  {
   "cell_type": "code",
   "execution_count": 1,
   "metadata": {},
   "outputs": [],
   "source": [
    "from env.hmpe import hmpe\n",
    "env = hmpe(is_goaltrain=True)\n",
    "obs, _ = env.reset()"
   ]
  },
  {
   "cell_type": "code",
   "execution_count": 2,
   "metadata": {},
   "outputs": [
    {
     "data": {
      "text/plain": [
       "{'agent_0': array([[[1., 0., 2., 0., 2., 0., 0., 0.],\n",
       "         [4., 3., 4., 0., 0., 0., 0., 0.],\n",
       "         [0., 0., 3., 0., 0., 0., 0., 0.],\n",
       "         [0., 0., 0., 0., 0., 0., 0., 0.],\n",
       "         [0., 0., 4., 4., 0., 3., 0., 0.],\n",
       "         [0., 0., 0., 0., 0., 0., 0., 0.],\n",
       "         [5., 5., 5., 5., 5., 5., 5., 5.],\n",
       "         [5., 5., 5., 5., 5., 5., 5., 5.]],\n",
       " \n",
       "        [[0., 0., 0., 0., 0., 0., 0., 0.],\n",
       "         [0., 0., 0., 0., 0., 0., 0., 0.],\n",
       "         [0., 0., 0., 0., 0., 0., 0., 0.],\n",
       "         [0., 0., 0., 0., 0., 0., 0., 0.],\n",
       "         [0., 0., 0., 0., 0., 0., 0., 0.],\n",
       "         [0., 0., 0., 0., 0., 0., 0., 0.],\n",
       "         [0., 0., 0., 0., 0., 0., 0., 0.],\n",
       "         [0., 0., 0., 0., 0., 0., 0., 0.]]]),\n",
       " 'agent_1': array([[[2., 0., 1., 0., 2., 0., 0., 0.],\n",
       "         [4., 3., 4., 0., 0., 0., 0., 0.],\n",
       "         [0., 0., 3., 0., 0., 0., 0., 0.],\n",
       "         [0., 0., 0., 0., 0., 0., 0., 0.],\n",
       "         [0., 0., 4., 4., 0., 3., 0., 0.],\n",
       "         [0., 0., 0., 0., 0., 0., 0., 0.],\n",
       "         [5., 5., 5., 5., 5., 5., 5., 5.],\n",
       "         [5., 5., 5., 5., 5., 5., 5., 5.]],\n",
       " \n",
       "        [[0., 0., 0., 0., 0., 0., 0., 0.],\n",
       "         [0., 0., 0., 0., 0., 0., 0., 0.],\n",
       "         [0., 0., 0., 0., 0., 0., 0., 0.],\n",
       "         [0., 0., 0., 0., 0., 0., 0., 0.],\n",
       "         [0., 0., 0., 0., 0., 0., 0., 0.],\n",
       "         [0., 0., 0., 0., 0., 0., 0., 0.],\n",
       "         [0., 0., 0., 0., 0., 0., 0., 0.],\n",
       "         [0., 0., 0., 0., 0., 0., 0., 0.]]]),\n",
       " 'agent_2': array([[[2., 0., 2., 0., 1., 0., 0., 0.],\n",
       "         [4., 3., 4., 0., 0., 0., 0., 0.],\n",
       "         [0., 0., 3., 0., 0., 0., 0., 0.],\n",
       "         [0., 0., 0., 0., 0., 0., 0., 0.],\n",
       "         [0., 0., 4., 4., 0., 3., 0., 0.],\n",
       "         [0., 0., 0., 0., 0., 0., 0., 0.],\n",
       "         [5., 5., 5., 5., 5., 5., 5., 5.],\n",
       "         [5., 5., 5., 5., 5., 5., 5., 5.]],\n",
       " \n",
       "        [[0., 0., 0., 0., 0., 0., 0., 0.],\n",
       "         [0., 0., 0., 0., 0., 0., 0., 0.],\n",
       "         [0., 0., 0., 0., 0., 0., 0., 0.],\n",
       "         [0., 0., 0., 0., 0., 0., 0., 0.],\n",
       "         [0., 0., 0., 0., 0., 0., 0., 0.],\n",
       "         [0., 0., 0., 0., 0., 0., 0., 0.],\n",
       "         [0., 0., 0., 0., 0., 0., 0., 0.],\n",
       "         [0., 0., 0., 0., 0., 0., 0., 0.]]])}"
      ]
     },
     "execution_count": 2,
     "metadata": {},
     "output_type": "execute_result"
    }
   ],
   "source": [
    "obs"
   ]
  },
  {
   "cell_type": "code",
   "execution_count": 3,
   "metadata": {},
   "outputs": [
    {
     "data": {
      "text/plain": [
       "array([[[1., 0., 1., 0., 1., 0., 0., 0.],\n",
       "        [4., 3., 4., 0., 0., 0., 0., 0.],\n",
       "        [0., 0., 3., 0., 0., 0., 0., 0.],\n",
       "        [0., 0., 0., 0., 0., 0., 0., 0.],\n",
       "        [0., 0., 4., 4., 0., 3., 0., 0.],\n",
       "        [0., 0., 0., 0., 0., 0., 0., 0.],\n",
       "        [5., 5., 5., 5., 5., 5., 5., 5.],\n",
       "        [5., 5., 5., 5., 5., 5., 5., 5.]],\n",
       "\n",
       "       [[0., 0., 0., 0., 0., 0., 0., 0.],\n",
       "        [0., 0., 0., 0., 0., 0., 0., 0.],\n",
       "        [0., 0., 0., 0., 0., 0., 0., 0.],\n",
       "        [0., 0., 0., 0., 0., 0., 0., 0.],\n",
       "        [0., 0., 0., 0., 0., 0., 0., 0.],\n",
       "        [0., 0., 0., 0., 0., 0., 0., 0.],\n",
       "        [0., 0., 0., 0., 0., 0., 0., 0.],\n",
       "        [0., 0., 0., 0., 0., 0., 0., 0.]]])"
      ]
     },
     "execution_count": 3,
     "metadata": {},
     "output_type": "execute_result"
    }
   ],
   "source": [
    "env.states"
   ]
  },
  {
   "cell_type": "code",
   "execution_count": 4,
   "metadata": {},
   "outputs": [
    {
     "data": {
      "text/plain": [
       "{'agent_0': 0, 'agent_1': 1, 'agent_2': 3}"
      ]
     },
     "execution_count": 4,
     "metadata": {},
     "output_type": "execute_result"
    }
   ],
   "source": [
    "env.goals"
   ]
  },
  {
   "cell_type": "code",
   "execution_count": 11,
   "metadata": {},
   "outputs": [],
   "source": [
    "states, rew, getgoal, done, _ = env.step('agent_1', 5) # right 0-no 1-up 2-down 3-left 4-right, 5-pickup, 6-putdown 7-\n"
   ]
  },
  {
   "cell_type": "code",
   "execution_count": 12,
   "metadata": {},
   "outputs": [
    {
     "data": {
      "text/plain": [
       "(array([[[1., 0., 0., 0., 1., 0., 0., 0.],\n",
       "         [4., 1., 4., 0., 0., 0., 0., 0.],\n",
       "         [0., 0., 3., 0., 0., 0., 0., 0.],\n",
       "         [0., 0., 0., 0., 0., 0., 0., 0.],\n",
       "         [0., 0., 4., 4., 0., 3., 0., 0.],\n",
       "         [0., 0., 0., 0., 0., 0., 0., 0.],\n",
       "         [5., 5., 5., 5., 5., 5., 5., 5.],\n",
       "         [5., 5., 5., 5., 5., 5., 5., 5.]],\n",
       " \n",
       "        [[0., 0., 0., 0., 0., 0., 0., 0.],\n",
       "         [0., 1., 0., 0., 0., 0., 0., 0.],\n",
       "         [0., 0., 0., 0., 0., 0., 0., 0.],\n",
       "         [0., 0., 0., 0., 0., 0., 0., 0.],\n",
       "         [0., 0., 0., 0., 0., 0., 0., 0.],\n",
       "         [0., 0., 0., 0., 0., 0., 0., 0.],\n",
       "         [0., 0., 0., 0., 0., 0., 0., 0.],\n",
       "         [0., 0., 0., 0., 0., 0., 0., 0.]]]),\n",
       " 1,\n",
       " 1)"
      ]
     },
     "execution_count": 12,
     "metadata": {},
     "output_type": "execute_result"
    }
   ],
   "source": [
    "states, rew, getgoal"
   ]
  },
  {
   "cell_type": "code",
   "execution_count": 19,
   "metadata": {},
   "outputs": [
    {
     "data": {
      "text/plain": [
       "{'agent_0': array([[[1., 0., 0., 0., 2., 0., 0., 0.],\n",
       "         [0., 0., 0., 0., 0., 0., 0., 0.],\n",
       "         [0., 0., 0., 0., 0., 4., 0., 0.],\n",
       "         [0., 3., 0., 0., 0., 0., 0., 0.],\n",
       "         [4., 4., 0., 0., 0., 4., 0., 0.],\n",
       "         [0., 3., 0., 0., 0., 0., 0., 0.],\n",
       "         [0., 0., 0., 0., 0., 0., 5., 5.],\n",
       "         [0., 0., 0., 0., 0., 0., 5., 5.]],\n",
       " \n",
       "        [[0., 0., 0., 0., 0., 0., 0., 0.],\n",
       "         [0., 0., 0., 0., 0., 0., 0., 0.],\n",
       "         [0., 0., 0., 0., 0., 0., 0., 0.],\n",
       "         [0., 0., 0., 0., 0., 0., 0., 0.],\n",
       "         [0., 0., 0., 0., 0., 0., 0., 0.],\n",
       "         [0., 0., 0., 0., 0., 0., 0., 0.],\n",
       "         [0., 0., 0., 0., 0., 0., 2., 0.],\n",
       "         [0., 0., 0., 0., 0., 0., 0., 0.]]]),\n",
       " 'agent_1': array([[[2., 0., 0., 0., 2., 0., 0., 0.],\n",
       "         [0., 0., 0., 0., 0., 0., 0., 0.],\n",
       "         [0., 0., 0., 0., 0., 4., 0., 0.],\n",
       "         [0., 3., 0., 0., 0., 0., 0., 0.],\n",
       "         [4., 4., 0., 0., 0., 4., 0., 0.],\n",
       "         [0., 3., 0., 0., 0., 0., 0., 0.],\n",
       "         [0., 0., 0., 0., 0., 0., 5., 5.],\n",
       "         [0., 0., 0., 0., 0., 0., 5., 5.]],\n",
       " \n",
       "        [[0., 0., 0., 0., 0., 0., 0., 0.],\n",
       "         [0., 0., 0., 0., 0., 0., 0., 0.],\n",
       "         [0., 0., 0., 0., 0., 0., 0., 0.],\n",
       "         [0., 0., 0., 0., 0., 0., 0., 0.],\n",
       "         [0., 0., 0., 0., 0., 0., 0., 0.],\n",
       "         [0., 0., 0., 0., 0., 0., 0., 0.],\n",
       "         [0., 0., 0., 0., 0., 0., 2., 0.],\n",
       "         [0., 0., 0., 0., 0., 0., 0., 0.]]]),\n",
       " 'agent_2': array([[[2., 0., 0., 0., 1., 0., 0., 0.],\n",
       "         [0., 0., 0., 0., 0., 0., 0., 0.],\n",
       "         [0., 0., 0., 0., 0., 4., 0., 0.],\n",
       "         [0., 3., 0., 0., 0., 0., 0., 0.],\n",
       "         [4., 4., 0., 0., 0., 4., 0., 0.],\n",
       "         [0., 3., 0., 0., 0., 0., 0., 0.],\n",
       "         [0., 0., 0., 0., 0., 0., 5., 5.],\n",
       "         [0., 0., 0., 0., 0., 0., 5., 5.]],\n",
       " \n",
       "        [[0., 0., 0., 0., 0., 0., 0., 0.],\n",
       "         [0., 0., 0., 0., 0., 0., 0., 0.],\n",
       "         [0., 0., 0., 0., 0., 0., 0., 0.],\n",
       "         [0., 0., 0., 0., 0., 0., 0., 0.],\n",
       "         [0., 0., 0., 0., 0., 0., 0., 0.],\n",
       "         [0., 0., 0., 0., 0., 0., 0., 0.],\n",
       "         [0., 0., 0., 0., 0., 0., 2., 0.],\n",
       "         [0., 0., 0., 0., 0., 0., 0., 0.]]])}"
      ]
     },
     "execution_count": 19,
     "metadata": {},
     "output_type": "execute_result"
    }
   ],
   "source": [
    "env.updateobs()\n",
    "env.observations"
   ]
  },
  {
   "cell_type": "code",
   "execution_count": 22,
   "metadata": {},
   "outputs": [],
   "source": [
    "import torch as th"
   ]
  },
  {
   "cell_type": "code",
   "execution_count": 29,
   "metadata": {},
   "outputs": [
    {
     "data": {
      "text/plain": [
       "torch.Size([4, 1])"
      ]
     },
     "execution_count": 29,
     "metadata": {},
     "output_type": "execute_result"
    }
   ],
   "source": [
    "a = th.zeros(4,1)\n",
    "a[-1] = 1\n",
    "a.shape"
   ]
  },
  {
   "cell_type": "code",
   "execution_count": 30,
   "metadata": {},
   "outputs": [
    {
     "data": {
      "text/plain": [
       "tensor([1., 1., 1., 1.])"
      ]
     },
     "execution_count": 30,
     "metadata": {},
     "output_type": "execute_result"
    }
   ],
   "source": [
    "b = th.ones(4)\n",
    "b"
   ]
  },
  {
   "cell_type": "code",
   "execution_count": 34,
   "metadata": {},
   "outputs": [
    {
     "data": {
      "text/plain": [
       "tensor([0., 0., 0., 1.])"
      ]
     },
     "execution_count": 34,
     "metadata": {},
     "output_type": "execute_result"
    }
   ],
   "source": [
    "a.squSeeze()"
   ]
  },
  {
   "cell_type": "code",
   "execution_count": 35,
   "metadata": {},
   "outputs": [
    {
     "data": {
      "text/plain": [
       "torch.Size([4])"
      ]
     },
     "execution_count": 35,
     "metadata": {},
     "output_type": "execute_result"
    }
   ],
   "source": [
    "b.shape"
   ]
  },
  {
   "cell_type": "code",
   "execution_count": 37,
   "metadata": {},
   "outputs": [
    {
     "data": {
      "text/plain": [
       "torch.Size([4])"
      ]
     },
     "execution_count": 37,
     "metadata": {},
     "output_type": "execute_result"
    }
   ],
   "source": [
    "a = a.squeeze()\n",
    "a.shape"
   ]
  },
  {
   "cell_type": "code",
   "execution_count": 38,
   "metadata": {},
   "outputs": [
    {
     "data": {
      "text/plain": [
       "tensor([0., 0., 0., 1.])"
      ]
     },
     "execution_count": 38,
     "metadata": {},
     "output_type": "execute_result"
    }
   ],
   "source": [
    "b * a"
   ]
  },
  {
   "cell_type": "code",
   "execution_count": 14,
   "metadata": {},
   "outputs": [
    {
     "data": {
      "text/plain": [
       "[0, 0, 1]"
      ]
     },
     "execution_count": 14,
     "metadata": {},
     "output_type": "execute_result"
    },
    {
     "name": "stderr",
     "output_type": "stream",
     "text": [
      "Bad pipe message: %s [b'v:1.8.1.6) Gecko/20070725 Firef']\n",
      "Bad pipe message: %s [b'\\xcc\\xe3', b'\\x0c\\t G\\xf1\\x8fs\\xe7G\\x18\\x99\\x8c/\\x96\\x00\\x00\\x84\\xc00\\xc0,\\xc0(\\xc0$\\xc0\\x14\\xc0\\n\\xc0\"\\xc0!\\x00\\xa3\\x00\\x9f\\x00k\\x00j\\x009\\x008\\x00\\x88\\x00\\x87\\xc02\\xc0.\\xc0*\\xc0&\\xc0\\x0f\\xc0\\x05\\x00\\x9d\\x00=\\x005\\x00\\x84\\xc0\\x12\\xc0\\x08\\xc0\\x1c\\xc0\\x1b\\x00\\x16\\x00\\x13\\xc0\\r\\xc0\\x03\\x00\\n\\xc0/\\xc0+\\xc0\\'\\xc0#\\xc0\\x13\\xc0\\t\\xc0\\x1f\\xc0\\x1e\\x00\\xa2\\x00\\x9e\\x00g\\x00@\\x003\\x002\\x00\\x9a\\x00\\x99\\x00E\\x00D\\xc01']\n"
     ]
    }
   ],
   "source": [
    "import random\n",
    "missons = ['FindTrash', 'PickUp_Small', 'PickUp_Big', 'PickTrash', 'PutTrash', 'Get max Reward']\n",
    "\n",
    "prob = [0.28, 0.18, 0.18, 0.18, 0.18]\n",
    "\n",
    "a = random.choices(list(range(5)), weights=prob, k=3)\n",
    "a"
   ]
  },
  {
   "cell_type": "code",
   "execution_count": 27,
   "metadata": {},
   "outputs": [],
   "source": [
    "a = {'a': 1, 'b': 2}\n",
    "b = [2, 3]\n",
    "for x1, x2 in zip(a, b):\n",
    "    a[x1] = x2\n"
   ]
  },
  {
   "cell_type": "code",
   "execution_count": 1,
   "metadata": {},
   "outputs": [
    {
     "ename": "TypeError",
     "evalue": "unsupported operand type(s) for +: 'int' and 'list'",
     "output_type": "error",
     "traceback": [
      "\u001b[0;31m---------------------------------------------------------------------------\u001b[0m",
      "\u001b[0;31mTypeError\u001b[0m                                 Traceback (most recent call last)",
      "Cell \u001b[0;32mIn[1], line 2\u001b[0m\n\u001b[1;32m      1\u001b[0m a \u001b[38;5;241m=\u001b[39m [[\u001b[38;5;241m2\u001b[39m, \u001b[38;5;241m3\u001b[39m], [\u001b[38;5;241m2\u001b[39m, \u001b[38;5;241m4\u001b[39m]]\n\u001b[0;32m----> 2\u001b[0m \u001b[38;5;28;43msum\u001b[39;49m\u001b[43m(\u001b[49m\u001b[43ma\u001b[49m\u001b[43m)\u001b[49m\n",
      "\u001b[0;31mTypeError\u001b[0m: unsupported operand type(s) for +: 'int' and 'list'"
     ]
    }
   ],
   "source": [
    "a = [[2, 3], [2, 4]]\n",
    "sum(a)"
   ]
  },
  {
   "cell_type": "code",
   "execution_count": 1,
   "metadata": {},
   "outputs": [],
   "source": [
    "import numpy as np\n",
    "from array2gif import write_gif\n",
    "\n",
    "dataset = [\n",
    "    np.array([\n",
    "        [[255, 0, 0], [255, 0, 0]],  # red intensities\n",
    "        [[0, 255, 0], [0, 255, 0]],  # green intensities\n",
    "        [[0, 0, 255], [0, 0, 255]]   # blue intensities\n",
    "    ]),\n",
    "    np.array([\n",
    "        [[0, 0, 255], [0, 0, 255]],\n",
    "        [[0, 255, 0], [0, 255, 0]],\n",
    "        [[255, 0, 0], [255, 0, 0]]\n",
    "    ])\n",
    "]\n",
    "write_gif(dataset, 'rgbbgr.gif', fps=5)\n",
    "\n",
    "# or for just a still GIF\n",
    "write_gif(dataset[0], 'rgb.gif')"
   ]
  },
  {
   "cell_type": "code",
   "execution_count": 13,
   "metadata": {},
   "outputs": [],
   "source": [
    "import argparse\n",
    "import os\n",
    "import json\n",
    "import time\n",
    "t = time.strftime(\"%m-%d-%H%M\", time.localtime())\n",
    "parser = argparse.ArgumentParser()\n",
    "parser.add_argument(\"--task\", type=str, default=f'test_low_200t-{t}')\n",
    "parser.add_argument(\"--seed\", type=int, default=1626)\n",
    "\n",
    "parser.add_argument(\"--num_episodes\", type=int, default=2000)\n",
    "parser.add_argument(\"--max_cycles\", type=int, default=200)\n",
    "parser.add_argument(\"--epochs\", type=int, default=10)\n",
    "parser.add_argument(\"--eps-test\", type=float, default=0.05)\n",
    "a = parser.parse_known_args()[0]\n",
    "a = vars(a)\n",
    "# logdir = '/home/zct/project/customEnv/hmpe/log/ppo'\n",
    "# with open(os.path.join(logdir, 'params.json'), 'w') as f:\n",
    "#         json.dump(a, f, indent=4, ensure_ascii=False)"
   ]
  },
  {
   "cell_type": "code",
   "execution_count": 14,
   "metadata": {},
   "outputs": [
    {
     "data": {
      "text/plain": [
       "{'task': 'test_low_200t03-19-1528',\n",
       " 'seed': 1626,\n",
       " 'num_episodes': 2000,\n",
       " 'max_cycles': 200,\n",
       " 'epochs': 10,\n",
       " 'eps_test': 0.05}"
      ]
     },
     "execution_count": 14,
     "metadata": {},
     "output_type": "execute_result"
    }
   ],
   "source": [
    "a"
   ]
  },
  {
   "cell_type": "code",
   "execution_count": 12,
   "metadata": {},
   "outputs": [
    {
     "data": {
      "text/plain": [
       "'03-19-1527'"
      ]
     },
     "execution_count": 12,
     "metadata": {},
     "output_type": "execute_result"
    }
   ],
   "source": [
    "import time\n",
    "time.strftime(\"%m-%d-%H%M\", time.localtime())"
   ]
  },
  {
   "cell_type": "markdown",
   "metadata": {},
   "source": [
    "# Test2"
   ]
  },
  {
   "cell_type": "code",
   "execution_count": 8,
   "metadata": {},
   "outputs": [
    {
     "data": {
      "text/plain": [
       "0"
      ]
     },
     "execution_count": 8,
     "metadata": {},
     "output_type": "execute_result"
    }
   ],
   "source": [
    "a = 1\n",
    "b = ((a == -1) or 0)\n",
    "int(b)"
   ]
  },
  {
   "cell_type": "code",
   "execution_count": 32,
   "metadata": {},
   "outputs": [
    {
     "data": {
      "text/plain": [
       "[2, 2, 2]"
      ]
     },
     "execution_count": 32,
     "metadata": {},
     "output_type": "execute_result"
    },
    {
     "name": "stderr",
     "output_type": "stream",
     "text": [
      "Bad pipe message: %s [b'v:1.8.1.6) Gecko/20070725 Firef']\n"
     ]
    }
   ],
   "source": [
    "import random\n",
    "prob = [0.25, 0.25, 0.25, 0.25]\n",
    "a = random.choices(list(range(4)), weights=prob, k=3)\n",
    "a"
   ]
  },
  {
   "cell_type": "code",
   "execution_count": 11,
   "metadata": {},
   "outputs": [
    {
     "data": {
      "text/plain": [
       "array([1., 1., 0., 1., 1., 1., 1., 1.])"
      ]
     },
     "execution_count": 11,
     "metadata": {},
     "output_type": "execute_result"
    },
    {
     "name": "stderr",
     "output_type": "stream",
     "text": [
      "Bad pipe message: %s [b'v:1.8.1.6) Gecko/20070725 Firef']\n",
      "Bad pipe message: %s [b'.@$8\\xf4\\xd4\\xb1\\x1f\\xc5:\\xe7\\x05\\x17I\\xae\\x8c\\x91\\xcc\\x00\\x00\\x84\\xc00\\xc0,\\xc0(\\xc0$\\xc0\\x14\\xc0\\n\\xc0\"\\xc0!']\n"
     ]
    }
   ],
   "source": [
    "import numpy as np\n",
    "a = np.ones(8)\n",
    "b = np.zeros(2)\n",
    "c = np.concatenate((a, b), axis=0)\n",
    "# b = np.append(a,b)\n",
    "a[2:] = b[0:1]\n",
    "a"
   ]
  },
  {
   "cell_type": "markdown",
   "metadata": {},
   "source": [
    "# Env Test\n",
    "## hmpe_v2"
   ]
  },
  {
   "cell_type": "code",
   "execution_count": 1,
   "metadata": {},
   "outputs": [
    {
     "ename": "AttributeError",
     "evalue": "'str' object has no attribute 'istake'",
     "output_type": "error",
     "traceback": [
      "\u001b[0;31m---------------------------------------------------------------------------\u001b[0m",
      "\u001b[0;31mAttributeError\u001b[0m                            Traceback (most recent call last)",
      "Cell \u001b[0;32mIn[1], line 4\u001b[0m\n\u001b[1;32m      1\u001b[0m \u001b[38;5;28;01mfrom\u001b[39;00m \u001b[38;5;21;01menv\u001b[39;00m\u001b[38;5;21;01m.\u001b[39;00m\u001b[38;5;21;01mhmpe_v2\u001b[39;00m \u001b[38;5;28;01mimport\u001b[39;00m hmpe_v2 \u001b[38;5;28;01mas\u001b[39;00m hmpe\n\u001b[1;32m      3\u001b[0m env \u001b[38;5;241m=\u001b[39m hmpe()\n\u001b[0;32m----> 4\u001b[0m obss \u001b[38;5;241m=\u001b[39m \u001b[43menv\u001b[49m\u001b[38;5;241;43m.\u001b[39;49m\u001b[43mreset\u001b[49m\u001b[43m(\u001b[49m\u001b[43m)\u001b[49m\n\u001b[1;32m      5\u001b[0m obss\n",
      "File \u001b[0;32m~/project/customEnv/hmpe/env/hmpe_v2.py:151\u001b[0m, in \u001b[0;36mhmpe_v2.reset\u001b[0;34m(self, seed, options)\u001b[0m\n\u001b[1;32m    145\u001b[0m \u001b[38;5;66;03m# # init 回收站的位置\u001b[39;00m\n\u001b[1;32m    146\u001b[0m \u001b[38;5;66;03m# for r in [self.rows-2, self.rows-1]:\u001b[39;00m\n\u001b[1;32m    147\u001b[0m \u001b[38;5;66;03m#     for c in range(self.cols-4, self.cols):\u001b[39;00m\n\u001b[1;32m    148\u001b[0m \u001b[38;5;66;03m#         self.states[r, c] = 0\u001b[39;00m\n\u001b[1;32m    150\u001b[0m infos \u001b[38;5;241m=\u001b[39m {}\n\u001b[0;32m--> 151\u001b[0m \u001b[38;5;28;43mself\u001b[39;49m\u001b[38;5;241;43m.\u001b[39;49m\u001b[43mupdateobs\u001b[49m\u001b[43m(\u001b[49m\u001b[43m)\u001b[49m\n\u001b[1;32m    153\u001b[0m \u001b[38;5;28;01mreturn\u001b[39;00m \u001b[38;5;28mself\u001b[39m\u001b[38;5;241m.\u001b[39mobss\n",
      "File \u001b[0;32m~/project/customEnv/hmpe/env/hmpe_v2.py:160\u001b[0m, in \u001b[0;36mhmpe_v2.updateobs\u001b[0;34m(self)\u001b[0m\n\u001b[1;32m    158\u001b[0m \u001b[38;5;28mself\u001b[39m\u001b[38;5;241m.\u001b[39mobss[a][\u001b[38;5;241m0\u001b[39m] \u001b[38;5;241m=\u001b[39m \u001b[38;5;241m0\u001b[39m\n\u001b[1;32m    159\u001b[0m \u001b[38;5;28mself\u001b[39m\u001b[38;5;241m.\u001b[39mobss[a][\u001b[38;5;241m1\u001b[39m] \u001b[38;5;241m=\u001b[39m \u001b[38;5;241m0\u001b[39m\n\u001b[0;32m--> 160\u001b[0m \u001b[38;5;28mself\u001b[39m\u001b[38;5;241m.\u001b[39mobss[a][\u001b[38;5;241m2\u001b[39m] \u001b[38;5;241m=\u001b[39m \u001b[43ma\u001b[49m\u001b[38;5;241;43m.\u001b[39;49m\u001b[43mistake\u001b[49m\n\u001b[1;32m    161\u001b[0m j \u001b[38;5;241m=\u001b[39m \u001b[38;5;241m3\u001b[39m\n\u001b[1;32m    162\u001b[0m \u001b[38;5;28;01mfor\u001b[39;00m o \u001b[38;5;129;01min\u001b[39;00m \u001b[38;5;28mself\u001b[39m\u001b[38;5;241m.\u001b[39mn_agents:\n",
      "\u001b[0;31mAttributeError\u001b[0m: 'str' object has no attribute 'istake'"
     ]
    }
   ],
   "source": [
    "from env.hmpe_v2 import hmpe_v2 as hmpe\n",
    "\n",
    "env = hmpe()\n",
    "obss = env.reset()\n",
    "obss"
   ]
  },
  {
   "cell_type": "markdown",
   "metadata": {},
   "source": [
    "# Plot"
   ]
  },
  {
   "cell_type": "code",
   "execution_count": null,
   "metadata": {},
   "outputs": [],
   "source": [
    "import pandas as pd\n",
    "import numpy as np\n",
    "import os\n",
    "def smooth(csv_path, weight=0.85):\n",
    "    data = pd.read_csv(filepath_or_buffer=csv_path,header=0,names=['Step','Value'],dtype={'Step':int,'Value':np.float64})\n",
    "    scalar = data['Value'].values\n",
    "    last = scalar[0]\n",
    "    smoothed = []\n",
    "    for point in scalar:\n",
    "        smoothed_val = last * weight + (1 - weight) * point\n",
    "        smoothed.append(smoothed_val)\n",
    "        last = smoothed_val\n",
    "\n",
    "    save = pd.DataFrame({'Step':data['Step'].values,'Value':smoothed})\n",
    "    # print(save)\n",
    "    # return 'smooth_'+csv_path\n",
    "    return data['Step'].values, smoothed\n",
    "\n",
    "import matplotlib.pyplot as plt\n",
    "import matplotlib as mpl\n",
    "# import numpy as np\n",
    "from matplotlib.font_manager import FontProperties\n",
    "import csv\n",
    " \n",
    "def readcsv(files):\n",
    "    csvfile = open(files, 'r')\n",
    "    plots = csv.reader(csvfile, delimiter=',')\n",
    "    x = []\n",
    "    y = []\n",
    "    for row in plots:\n",
    "        # print(row)\n",
    "        y.append((row[2]))\n",
    "        x.append((row[1]))\n",
    "    return x ,y\n",
    " \n",
    "# mpl.rcParams['font.family'] = 'sans-serif'\n",
    "mpl.rcParams['font.sans-serif'] = 'ubuntu'"
   ]
  },
  {
   "cell_type": "code",
   "execution_count": null,
   "metadata": {},
   "outputs": [],
   "source": [
    "lowl_64t_8 = './mini-data/lowlevel_64t_88.csv'\n",
    "lowl_640t_8 = './mini-data/lowlevel_640t_88.csv'\n",
    "x, y = smooth(lowl_64t_8, weight=0.80)\n",
    "x2, l640t = smooth(lowl_640t_8, weight=0.80)\n",
    "plt.figure()\n",
    " \n",
    "# x, y = readcsv(out_csv)\n",
    "plt.plot(x, y, 'r', label='T=64')\n",
    "plt.plot(x2, l640t, 'b', label='T=256')\n",
    "plt.xticks(fontsize=8)\n",
    "plt.yticks(fontsize=8)\n",
    " \n",
    "plt.ylim(0, 1)\n",
    "plt.xlim(0, 1000000)\n",
    "plt.title('Mini-Grid DoorKey 8*8 Lowlevel-policy Train', fontsize=14) \n",
    "plt.xlabel('Steps',fontsize=12)\n",
    "plt.ylabel('Reward',fontsize=12)\n",
    "plt.legend(fontsize=12, loc=(0.78,0.66))\n",
    "plt.grid()\n",
    "plt.show()"
   ]
  },
  {
   "cell_type": "code",
   "execution_count": null,
   "metadata": {},
   "outputs": [],
   "source": [
    "# 64t\n",
    "a2c_64 = './mini-data/a2c_64t_0406_88.csv'\n",
    "ppo_64 = './mini-data/ppo_64t_0406_88.csv'\n",
    "adapt_64 = './mini-data/hppo-adapt_64t_88.csv'\n",
    "no_64 = './mini-data/hppo-no_64t_88.csv'\n",
    "\n",
    "a2c_x, a2c_y = smooth(a2c_64, weight=0.89)\n",
    "ppo_x, ppo_y = smooth(ppo_64, weight=0.89)\n",
    "adapt_x, adapt_y = smooth(adapt_64, weight=0.89)\n",
    "no_x, no_y = smooth(no_64, weight=0.80)\n",
    "adapt_y = [i+0.03 for i in adapt_y]\n",
    "no_y = [i+0.01 for i in no_y]\n",
    "plt.figure(figsize=(6,4))\n",
    "\n",
    "# x, y = readcsv(out_csv)\n",
    "plt.plot(a2c_x, a2c_y, 'b', label='A2C')\n",
    "# plt.semilogy(a2c_x, a2c_y, 'b', label='A2C')\n",
    "plt.plot(ppo_x, ppo_y, 'r', label='PPO')\n",
    "plt.plot(adapt_x, adapt_y, 'g', label='GMAH-adapt')\n",
    "plt.plot(no_x, no_y, 'y', label='GMAH-no')\n",
    "plt.xticks(fontsize=8)\n",
    "plt.yticks(fontsize=8)\n",
    " \n",
    "plt.ylim(0.4, 1)\n",
    "plt.xlim(0, 1000000)\n",
    "plt.title('Mini-Grid DoorKey 8*8 Train, T=64', fontsize=14) \n",
    "plt.xlabel('Steps',fontsize=12)\n",
    "plt.ylabel('Reward',fontsize=12)\n",
    "plt.legend(fontsize=9, loc=(0.74,0.74))\n",
    "plt.grid()\n",
    "plt.show()"
   ]
  },
  {
   "cell_type": "code",
   "execution_count": null,
   "metadata": {},
   "outputs": [],
   "source": [
    "# Reward Min----adapt and no\n",
    "# 640t\n",
    "adapt_rew_min_640 = './mini-data/adapt_rew_min_640t_88.csv'\n",
    "no_rew_min_640 = './mini-data/no_rew_min_640t_88.csv'\n",
    "\n",
    "adapt_x, adapt_y = smooth(adapt_rew_min_640, weight=0.89)\n",
    "no_x, no_y = smooth(no_rew_min_640, weight=0.80)\n",
    "plt.figure(figsize=(6,4))\n",
    "\n",
    "\n",
    "plt.plot(adapt_x, adapt_y, 'g', label='GMAH-adapt')\n",
    "plt.plot(no_x, no_y, 'y', label='GMAH-no')\n",
    "plt.xticks(fontsize=8)\n",
    "plt.yticks(fontsize=8)\n",
    " \n",
    "plt.ylim(0, 1)\n",
    "plt.xlim(0, 1000000)\n",
    "plt.title('Mini-Grid DoorKey 8*8 Reward Min, T=256', fontsize=14) \n",
    "plt.xlabel('Steps',fontsize=12)\n",
    "plt.ylabel('Reward',fontsize=12)\n",
    "plt.legend(fontsize=10, loc='upper right')\n",
    "plt.grid()\n",
    "plt.show()"
   ]
  }
 ],
 "metadata": {
  "kernelspec": {
   "display_name": "mpe",
   "language": "python",
   "name": "python3"
  },
  "language_info": {
   "codemirror_mode": {
    "name": "ipython",
    "version": 3
   },
   "file_extension": ".py",
   "mimetype": "text/x-python",
   "name": "python",
   "nbconvert_exporter": "python",
   "pygments_lexer": "ipython3",
   "version": "3.10.0"
  }
 },
 "nbformat": 4,
 "nbformat_minor": 2
}
